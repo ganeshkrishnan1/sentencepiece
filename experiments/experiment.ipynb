{
 "cells": [
  {
   "cell_type": "code",
   "execution_count": 1,
   "metadata": {},
   "outputs": [
    {
     "ename": "AttributeError",
     "evalue": "'ImmutableSentencePieceText' object has no attribute 'OpenDB'",
     "output_type": "error",
     "traceback": [
      "\u001b[1;31m---------------------------------------------------------------------------\u001b[0m",
      "\u001b[1;31mAttributeError\u001b[0m                            Traceback (most recent call last)",
      "Cell \u001b[1;32mIn[1], line 7\u001b[0m\n\u001b[0;32m      4\u001b[0m isp_text \u001b[38;5;241m=\u001b[39m spm\u001b[38;5;241m.\u001b[39mImmutableSentencePieceText()\n\u001b[0;32m      6\u001b[0m \u001b[38;5;66;03m# Open the LevelDB database\u001b[39;00m\n\u001b[1;32m----> 7\u001b[0m \u001b[43misp_text\u001b[49m\u001b[38;5;241;43m.\u001b[39;49m\u001b[43mOpenDB\u001b[49m(\u001b[38;5;124m\"\u001b[39m\u001b[38;5;124msentence_pieces\u001b[39m\u001b[38;5;124m\"\u001b[39m)\n\u001b[0;32m      9\u001b[0m \u001b[38;5;66;03m# Add some key-value pairs to the database\u001b[39;00m\n\u001b[0;32m     10\u001b[0m isp_text\u001b[38;5;241m.\u001b[39mPut(\u001b[38;5;124m\"\u001b[39m\u001b[38;5;124mkey1\u001b[39m\u001b[38;5;124m\"\u001b[39m, \u001b[38;5;124m\"\u001b[39m\u001b[38;5;124mvalue1\u001b[39m\u001b[38;5;124m\"\u001b[39m)\n",
      "\u001b[1;31mAttributeError\u001b[0m: 'ImmutableSentencePieceText' object has no attribute 'OpenDB'"
     ]
    }
   ],
   "source": [
    "import sentencepiece as spm\n",
    "\n",
    "# Create an instance of ImmutableSentencePieceText\n",
    "isp_text = spm.ImmutableSentencePieceText()\n",
    "\n",
    "# Open the LevelDB database\n",
    "isp_text.OpenDB(\"sentence_pieces\")\n",
    "\n",
    "# Add some key-value pairs to the database\n",
    "isp_text.Put(\"key1\", \"value1\")\n",
    "isp_text.Put(\"key2\", \"value2\")\n",
    "\n",
    "# Retrieve a value by key\n",
    "value = isp_text.Get(\"key1\")\n",
    "print(f\"Retrieved value for 'key1': {value}\")\n",
    "\n",
    "# Close the database\n",
    "isp_text.CloseDB()\n"
   ]
  }
 ],
 "metadata": {
  "kernelspec": {
   "display_name": "sp",
   "language": "python",
   "name": "python3"
  },
  "language_info": {
   "codemirror_mode": {
    "name": "ipython",
    "version": 3
   },
   "file_extension": ".py",
   "mimetype": "text/x-python",
   "name": "python",
   "nbconvert_exporter": "python",
   "pygments_lexer": "ipython3",
   "version": "3.9.19"
  }
 },
 "nbformat": 4,
 "nbformat_minor": 2
}
