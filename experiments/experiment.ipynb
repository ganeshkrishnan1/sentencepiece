{
 "cells": [
  {
   "cell_type": "code",
   "execution_count": 4,
   "metadata": {},
   "outputs": [
    {
     "name": "stdout",
     "output_type": "stream",
     "text": [
      "Tokens: ['▁', 'Th', 'is', '▁', 'is', '▁a', '▁s', 'amp', 'le', '▁t', 'ext', '▁', 'fo', 'r', '▁t', 'ok', 'en', 'iz', 'at', 'io', 'n', '▁', 'us', 'in', 'g', '▁S', 'ent', 'en', 'ce', 'Pie', 'ce', '.']\n",
      "Decoded Text: This is a sample text for tokenization using SentencePiece.\n"
     ]
    }
   ],
   "source": [
    "import sentencepiece as spm\n",
    "\n",
    "# Sample text\n",
    "sample_text = \"This is a sample text for tokenization using SentencePiece.\"\n",
    "\n",
    "# Write the sample text to a file\n",
    "with open('sample_text.txt', 'w') as f:\n",
    "    f.write(sample_text)\n",
    "\n",
    "# Train a SentencePiece model with a smaller vocabulary size\n",
    "spm.SentencePieceTrainer.train(input='sample_text.txt', model_prefix='m', vocab_size=50, model_type='bpe')\n",
    "\n",
    "# Load the trained model\n",
    "sp = spm.SentencePieceProcessor(model_file='m.model')\n",
    "\n",
    "# Tokenize the sample text\n",
    "tokens = sp.encode(sample_text, out_type=str)\n",
    "print(\"Tokens:\", tokens)\n",
    "\n",
    "# Decode the tokens back to the original text\n",
    "decoded_text = sp.decode(tokens)\n",
    "print(\"Decoded Text:\", decoded_text)\n"
   ]
  },
  {
   "cell_type": "code",
   "execution_count": 3,
   "metadata": {},
   "outputs": [],
   "source": [
    "def log_model_info(sp, filename='sentencepiece_log.txt'):\n",
    "    with open(filename, 'a') as logfile:\n",
    "        logfile.write(\"This is a modified version of the project.\\n\")\n",
    "        logfile.write(\"SentencePiece model information:\\n\")\n",
    "        logfile.write(f\"Vocabulary size: {sp.get_piece_size()}\\n\")\n",
    "        logfile.write(\"Sample vocabulary items:\\n\")\n",
    "        for i in range(min(10, sp.get_piece_size())):\n",
    "            piece = sp.id_to_piece(i)\n",
    "            logfile.write(f\"  ID {i}: {piece}\\n\")\n",
    "        logfile.write(f\"Model type: {sp.model_type()}\\n\")\n",
    "        logfile.write(f\"Model file: {sp.model_file()}\\n\")\n",
    "        logfile.write(\"\\n\")"
   ]
  },
  {
   "cell_type": "code",
   "execution_count": 4,
   "metadata": {},
   "outputs": [
    {
     "ename": "AttributeError",
     "evalue": "'SentencePieceProcessor' object has no attribute 'model_type'",
     "output_type": "error",
     "traceback": [
      "\u001b[1;31m---------------------------------------------------------------------------\u001b[0m",
      "\u001b[1;31mAttributeError\u001b[0m                            Traceback (most recent call last)",
      "Cell \u001b[1;32mIn[4], line 12\u001b[0m\n\u001b[0;32m     10\u001b[0m \u001b[38;5;66;03m# Train a SentencePiece model with a smaller vocabulary size\u001b[39;00m\n\u001b[0;32m     11\u001b[0m sp \u001b[38;5;241m=\u001b[39m spm\u001b[38;5;241m.\u001b[39mSentencePieceProcessor(model_file\u001b[38;5;241m=\u001b[39m\u001b[38;5;124m'\u001b[39m\u001b[38;5;124mm.model\u001b[39m\u001b[38;5;124m'\u001b[39m)\n\u001b[1;32m---> 12\u001b[0m \u001b[43mlog_model_info\u001b[49m\u001b[43m(\u001b[49m\u001b[43msp\u001b[49m\u001b[43m)\u001b[49m\n\u001b[0;32m     14\u001b[0m \u001b[38;5;66;03m# Tokenize the sample text\u001b[39;00m\n\u001b[0;32m     15\u001b[0m sample_text \u001b[38;5;241m=\u001b[39m \u001b[38;5;124m\"\u001b[39m\u001b[38;5;124mThis is a sample text for tokenization using SentencePiece.\u001b[39m\u001b[38;5;124m\"\u001b[39m\n",
      "Cell \u001b[1;32mIn[3], line 10\u001b[0m, in \u001b[0;36mlog_model_info\u001b[1;34m(sp, filename)\u001b[0m\n\u001b[0;32m      8\u001b[0m     piece \u001b[38;5;241m=\u001b[39m sp\u001b[38;5;241m.\u001b[39mid_to_piece(i)\n\u001b[0;32m      9\u001b[0m     logfile\u001b[38;5;241m.\u001b[39mwrite(\u001b[38;5;124mf\u001b[39m\u001b[38;5;124m\"\u001b[39m\u001b[38;5;124m  ID \u001b[39m\u001b[38;5;132;01m{\u001b[39;00mi\u001b[38;5;132;01m}\u001b[39;00m\u001b[38;5;124m: \u001b[39m\u001b[38;5;132;01m{\u001b[39;00mpiece\u001b[38;5;132;01m}\u001b[39;00m\u001b[38;5;130;01m\\n\u001b[39;00m\u001b[38;5;124m\"\u001b[39m)\n\u001b[1;32m---> 10\u001b[0m logfile\u001b[38;5;241m.\u001b[39mwrite(\u001b[38;5;124mf\u001b[39m\u001b[38;5;124m\"\u001b[39m\u001b[38;5;124mModel type: \u001b[39m\u001b[38;5;132;01m{\u001b[39;00msp\u001b[38;5;241m.\u001b[39mmodel_type()\u001b[38;5;132;01m}\u001b[39;00m\u001b[38;5;130;01m\\n\u001b[39;00m\u001b[38;5;124m\"\u001b[39m)\n\u001b[0;32m     11\u001b[0m logfile\u001b[38;5;241m.\u001b[39mwrite(\u001b[38;5;124mf\u001b[39m\u001b[38;5;124m\"\u001b[39m\u001b[38;5;124mModel file: \u001b[39m\u001b[38;5;132;01m{\u001b[39;00msp\u001b[38;5;241m.\u001b[39mmodel_file()\u001b[38;5;132;01m}\u001b[39;00m\u001b[38;5;130;01m\\n\u001b[39;00m\u001b[38;5;124m\"\u001b[39m)\n\u001b[0;32m     12\u001b[0m logfile\u001b[38;5;241m.\u001b[39mwrite(\u001b[38;5;124m\"\u001b[39m\u001b[38;5;130;01m\\n\u001b[39;00m\u001b[38;5;124m\"\u001b[39m)\n",
      "\u001b[1;31mAttributeError\u001b[0m: 'SentencePieceProcessor' object has no attribute 'model_type'"
     ]
    }
   ],
   "source": [
    "import sentencepiece as spm\n",
    "\n",
    "# Sample text\n",
    "sample_text = \"This is a sample text for tokenization using SentencePiece.\"\n",
    "\n",
    "# Write the sample text to a file\n",
    "with open('sample_text.txt', 'w') as f:\n",
    "    f.write(sample_text)\n",
    "\n",
    "# Train a SentencePiece model with a smaller vocabulary size\n",
    "sp = spm.SentencePieceProcessor(model_file='m.model')\n",
    "log_model_info(sp)\n",
    "\n",
    "# Tokenize the sample text\n",
    "sample_text = \"This is a sample text for tokenization using SentencePiece.\"\n",
    "tokens = sp.encode(sample_text, out_type=str)\n",
    "\n",
    "# Log tokenization results\n",
    "with open('sentencepiece_log.txt', 'a') as logfile:\n",
    "    logfile.write(\"Tokenization results:\\n\")\n",
    "    logfile.write(f\"Original text: {sample_text}\\n\")\n",
    "    logfile.write(f\"Tokens: {' '.join(tokens)}\\n\\n\")\n",
    "\n",
    "print(\"Logging complete. Check sentencepiece_log.txt for details.\")\n"
   ]
  },
  {
   "cell_type": "code",
   "execution_count": 1,
   "metadata": {},
   "outputs": [
    {
     "name": "stdout",
     "output_type": "stream",
     "text": [
      "c:\\Users\\prath\\anaconda3\\envs\\sp\\lib\\site-packages\\sentencepiece\\__init__.py\n",
      "0.2.1\n"
     ]
    }
   ],
   "source": [
    "import sentencepiece as spm\n",
    "print(spm.__file__)\n",
    "print(spm.__version__)"
   ]
  }
 ],
 "metadata": {
  "kernelspec": {
   "display_name": "sp",
   "language": "python",
   "name": "python3"
  },
  "language_info": {
   "codemirror_mode": {
    "name": "ipython",
    "version": 3
   },
   "file_extension": ".py",
   "mimetype": "text/x-python",
   "name": "python",
   "nbconvert_exporter": "python",
   "pygments_lexer": "ipython3",
   "version": "3.9.19"
  }
 },
 "nbformat": 4,
 "nbformat_minor": 2
}
