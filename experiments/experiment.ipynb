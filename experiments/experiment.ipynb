{
 "cells": [
  {
   "cell_type": "code",
   "execution_count": 2,
   "metadata": {},
   "outputs": [
    {
     "name": "stdout",
     "output_type": "stream",
     "text": [
      "Tokens: ['▁', 'Th', 'is', '▁', 'is', '▁a', '▁s', 'amp', 'le', '▁t', 'ext', '▁', 'fo', 'r', '▁t', 'ok', 'en', 'iz', 'at', 'io', 'n', '▁', 'us', 'in', 'g', '▁S', 'ent', 'en', 'ce', 'Pie', 'ce', '.']\n",
      "Decoded Text: This is a sample text for tokenization using SentencePiece.\n"
     ]
    }
   ],
   "source": [
    "import sentencepiece as spm\n",
    "\n",
    "# Sample text\n",
    "sample_text = \"This is a sample text for tokenization using SentencePiece.\"\n",
    "\n",
    "# Write the sample text to a file\n",
    "with open('sample_text.txt', 'w') as f:\n",
    "    f.write(sample_text)\n",
    "\n",
    "# Train a SentencePiece model with a smaller vocabulary size\n",
    "spm.SentencePieceTrainer.train(input='sample_text.txt', model_prefix='m', vocab_size=50, model_type='bpe')\n",
    "\n",
    "# Load the trained model\n",
    "sp = spm.SentencePieceProcessor(model_file='m.model')\n",
    "\n",
    "# Tokenize the sample text\n",
    "tokens = sp.encode(sample_text, out_type=str)\n",
    "print(\"Tokens:\", tokens)\n",
    "\n",
    "# Decode the tokens back to the original text\n",
    "decoded_text = sp.decode(tokens)\n",
    "print(\"Decoded Text:\", decoded_text)\n"
   ]
  },
  {
   "cell_type": "code",
   "execution_count": 1,
   "metadata": {},
   "outputs": [
    {
     "name": "stdout",
     "output_type": "stream",
     "text": [
      "Tokens: ['▁', 'Th', 'is', '▁', 'is', '▁a', '▁s', 'amp', 'le', '▁t', 'ext', '▁', 'fo', 'r', '▁t', 'ok', 'en', 'iz', 'at', 'io', 'n', '▁', 'us', 'in', 'g', '▁S', 'ent', 'en', 'ce', 'Pie', 'ce', '.']\n",
      "Decoded Text: This is a sample text for tokenization using SentencePiece.\n"
     ]
    }
   ],
   "source": [
    "import sentencepiece as spm\n",
    "\n",
    "# Sample text\n",
    "sample_text = \"This is a sample text for tokenization using SentencePiece.\"\n",
    "\n",
    "# Write the sample text to a file\n",
    "with open('sample_text.txt', 'w') as f:\n",
    "    f.write(sample_text)\n",
    "\n",
    "# Train a SentencePiece model with a smaller vocabulary size\n",
    "spm.SentencePieceTrainer.train(input='sample_text.txt', model_prefix='m', vocab_size=50, model_type='bpe')\n",
    "\n",
    "# Load the trained model\n",
    "sp = spm.SentencePieceProcessor(model_file='m.model')\n",
    "\n",
    "# Tokenize the sample text\n",
    "tokens = sp.encode(sample_text, out_type=str)\n",
    "print(\"Tokens:\", tokens)\n",
    "\n",
    "# Decode the tokens back to the original text\n",
    "decoded_text = sp.decode(tokens)\n",
    "print(\"Decoded Text:\", decoded_text)\n"
   ]
  }
 ],
 "metadata": {
  "kernelspec": {
   "display_name": "sp",
   "language": "python",
   "name": "python3"
  },
  "language_info": {
   "codemirror_mode": {
    "name": "ipython",
    "version": 3
   },
   "file_extension": ".py",
   "mimetype": "text/x-python",
   "name": "python",
   "nbconvert_exporter": "python",
   "pygments_lexer": "ipython3",
   "version": "3.9.19"
  }
 },
 "nbformat": 4,
 "nbformat_minor": 2
}
